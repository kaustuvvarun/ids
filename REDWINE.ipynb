{
 "cells": [
  {
   "cell_type": "markdown",
   "metadata": {
    "slideshow": {
     "slide_type": "slide"
    }
   },
   "source": [
    "# Setting up the development environment by importing required libraries and modules:\n",
    "    Numpy: It will provide the support for efficient numerical computation.\n",
    "    Pandas: It is convenient library that supports dataframes. Working with pandas will bring ease in many \n",
    "            crucial data operations.\n",
    "    Matplotlib: It provides a MATLAB-like plotting framework.\n",
    "    Seaborn: It is a visualization library based on matplotlib which provides a high-level interface for \n",
    "             drawing attractive statistical graphics.\n",
    "    Bokeh: It is a interactive visualization library that targets modern web browsers for presentation.\n",
    "    Statsmodel: It provides functions and classes for statistical tests and models.\n",
    "    Sklearn: It is python library for data mining, data analysis and machine learning."
   ]
  },
  {
   "cell_type": "code",
   "execution_count": null,
   "metadata": {
    "_uuid": "29b4c403fea598a9e89097228752ad184034b35d",
    "slideshow": {
     "slide_type": "fragment"
    }
   },
   "outputs": [],
   "source": [
    "import numpy as npy\n",
    "import pandas as pd\n",
    "import matplotlib.pyplot as pyplt\n",
    "import seaborn as seans\n",
    "from bokeh.plotting import figure, output_file, show\n",
    "from bokeh.layouts import row\n",
    "from bokeh.io import output_notebook\n",
    "import statsmodels.api as sm\n",
    "import statsmodels.formula.api as smf\n",
    "from patsy import dmatrices\n",
    "import sklearn\n",
    "import sklearn.metrics\n",
    "from sklearn import ensemble\n",
    "from sklearn import linear_model\n",
    "import warnings\n",
    "warnings.filterwarnings('ignore')\n",
    "output_notebook()\n",
    "%matplotlib inline"
   ]
  },
  {
   "cell_type": "raw",
   "metadata": {
    "slideshow": {
     "slide_type": "notes"
    }
   },
   "source": [
    "We upload our dataset from the specificed location in our variable dataset."
   ]
  },
  {
   "cell_type": "code",
   "execution_count": null,
   "metadata": {
    "_kg_hide-output": true,
    "_uuid": "1b2b1ea1ce4f272d6ab4f0f9e3e57f3788475962",
    "slideshow": {
     "slide_type": "fragment"
    }
   },
   "outputs": [],
   "source": [
    "location = \"../Downloads/winequality-red.csv\"\n",
    "dataset = pd.read_csv(location)"
   ]
  },
  {
   "cell_type": "markdown",
   "metadata": {},
   "source": [
    "We select five cells from the start of the table to sample out the data."
   ]
  },
  {
   "cell_type": "code",
   "execution_count": null,
   "metadata": {
    "_uuid": "474d145074b634ac19ad5c9d443e3c6d56b16852",
    "slideshow": {
     "slide_type": "fragment"
    }
   },
   "outputs": [],
   "source": [
    "dataset.head(n=5)"
   ]
  },
  {
   "cell_type": "markdown",
   "metadata": {
    "slideshow": {
     "slide_type": "notes"
    }
   },
   "source": [
    "Now we begin with the analysis of this data. Using the below written function we get the headers of the table."
   ]
  },
  {
   "cell_type": "code",
   "execution_count": null,
   "metadata": {
    "_uuid": "40b2d1d81c5a648bba79bf009b7e4ecfd4da1cce",
    "slideshow": {
     "slide_type": "fragment"
    }
   },
   "outputs": [],
   "source": [
    "print(\"Shape of our dataset of  Red wine : {s}\".format(s = dataset.shape))\n",
    "print(\"Column headers/names: {s}\".format(s = list(dataset)))"
   ]
  },
  {
   "cell_type": "markdown",
   "metadata": {},
   "source": [
    "dataset.info() function provides the detailed structure ofthe table and datatypes and attributes."
   ]
  },
  {
   "cell_type": "code",
   "execution_count": null,
   "metadata": {
    "_uuid": "57cdef2dac81693097d7f462c34a9e96f582522a",
    "slideshow": {
     "slide_type": "subslide"
    }
   },
   "outputs": [],
   "source": [
    "# Now, let's check the information about different variables/column from the dataset:\n",
    "dataset.info()"
   ]
  },
  {
   "cell_type": "markdown",
   "metadata": {},
   "source": [
    "The describe() function takes into account the measures ofcentral tendecies to give an in depth numeric idea of all the attributes of the dataset."
   ]
  },
  {
   "cell_type": "code",
   "execution_count": null,
   "metadata": {
    "_uuid": "8dfc935e844f4edecb0193e579206aaaf45bc925",
    "slideshow": {
     "slide_type": "slide"
    }
   },
   "outputs": [],
   "source": [
    "# Let's look at the summary of the dataset,\n",
    "dataset.describe()"
   ]
  },
  {
   "cell_type": "markdown",
   "metadata": {},
   "source": [
    "Using the isnull().sum() function we extract the count of total number of null entries in each attribute."
   ]
  },
  {
   "cell_type": "code",
   "execution_count": null,
   "metadata": {
    "_uuid": "1e4de7467a68172dd5d4bac234f404186c748e8a",
    "slideshow": {
     "slide_type": "fragment"
    }
   },
   "outputs": [],
   "source": [
    "dataset.isnull().sum()"
   ]
  },
  {
   "cell_type": "markdown",
   "metadata": {
    "slideshow": {
     "slide_type": "notes"
    }
   },
   "source": [
    "After executing the above function we get to know that none of the attributes comprise of any null entries."
   ]
  },
  {
   "cell_type": "markdown",
   "metadata": {
    "slideshow": {
     "slide_type": "notes"
    }
   },
   "source": [
    "In the below line of code we rename the attributes so as to remove the blank space between them."
   ]
  },
  {
   "cell_type": "code",
   "execution_count": null,
   "metadata": {
    "_uuid": "3c4be07af25e31b4b4e725b15362349f36e71be1",
    "slideshow": {
     "slide_type": "fragment"
    }
   },
   "outputs": [],
   "source": [
    "dataset.rename(columns={'fixed acidity': 'acidity_fixed','citric acid':'acid_citric','volatile acidity':'acidity_volatile','residual sugar':'residual_sugar','free sulfur dioxide':'free_sulfur_dioxide','total sulfur dioxide':'total_sulfur_dioxide'}, inplace=True)\n",
    "dataset.head(n=5)"
   ]
  },
  {
   "cell_type": "markdown",
   "metadata": {
    "slideshow": {
     "slide_type": "notes"
    }
   },
   "source": [
    "The unique() function is providing all the unique values in quality attribute of the dataset."
   ]
  },
  {
   "cell_type": "code",
   "execution_count": null,
   "metadata": {
    "_uuid": "1a10f35e6042be0343df37bea40f4480127c5518",
    "slideshow": {
     "slide_type": "fragment"
    }
   },
   "outputs": [],
   "source": [
    "dataset['quality'].unique()"
   ]
  },
  {
   "cell_type": "markdown",
   "metadata": {
    "slideshow": {
     "slide_type": "notes"
    }
   },
   "source": [
    "The value_counts().sort_index() will provide number of data with respect to each value of attribute in a sorted manner."
   ]
  },
  {
   "cell_type": "code",
   "execution_count": null,
   "metadata": {
    "_uuid": "3b41a284b71545b6230a487e857cc1eca0eed3c9",
    "slideshow": {
     "slide_type": "fragment"
    }
   },
   "outputs": [],
   "source": [
    "dataset.quality.value_counts().sort_index()"
   ]
  },
  {
   "cell_type": "markdown",
   "metadata": {
    "slideshow": {
     "slide_type": "notes"
    }
   },
   "source": [
    "The countplot() function gives a countplot graph of desired attributes."
   ]
  },
  {
   "cell_type": "code",
   "execution_count": null,
   "metadata": {
    "_uuid": "945f9dc38ef05ac2276bfc816bd3d7a672978870",
    "slideshow": {
     "slide_type": "subslide"
    }
   },
   "outputs": [],
   "source": [
    "seans.countplot(x='quality', data=dataset)"
   ]
  },
  {
   "cell_type": "markdown",
   "metadata": {
    "slideshow": {
     "slide_type": "notes"
    }
   },
   "source": [
    "The above distribution shows the quality range(3 to 8).\n",
    "\n",
    "\n",
    "\n",
    "Now, a new descrete attribute feature will be created from the quality dataset.\n",
    "The renge of descretion are as follows,\n",
    "Inferior 1-4\n",
    "fine     5-6\n",
    "Superior 7-10\n"
   ]
  },
  {
   "cell_type": "code",
   "execution_count": null,
   "metadata": {
    "_uuid": "989cf8f6d6c039fd96b6d8050ba7859697180284",
    "slideshow": {
     "slide_type": "fragment"
    }
   },
   "outputs": [],
   "source": [
    "conditions = [\n",
    "    (dataset['quality'] >= 7),\n",
    "    (dataset['quality'] <= 4)\n",
    "]\n",
    "rating = ['superior', 'inferior']\n",
    "dataset['rating'] = np.select(conditions, rating, default='fine')\n",
    "dataset.rating.value_counts()"
   ]
  },
  {
   "cell_type": "code",
   "execution_count": null,
   "metadata": {
    "_uuid": "d9d78d254cd79690b668a249aa1369cd1a8d61a9",
    "slideshow": {
     "slide_type": "fragment"
    }
   },
   "outputs": [],
   "source": [
    "dataset.groupby('rating').mean()"
   ]
  },
  {
   "cell_type": "markdown",
   "metadata": {
    "slideshow": {
     "slide_type": "notes"
    }
   },
   "source": [
    "Corelation between features/attributes:\n",
    "    In this we check the corelation between the target variable and predictor variable."
   ]
  },
  {
   "cell_type": "code",
   "execution_count": null,
   "metadata": {
    "_uuid": "58ae5acf3e7266b526ab04f3e6d515e7ca9774f9",
    "slideshow": {
     "slide_type": "fragment"
    }
   },
   "outputs": [],
   "source": [
    "correlation = dataset.corr()\n",
    "pyplt.figure(figsize=(14, 8))\n",
    "seans.heatmap(correlation, annot=True, linewidths=0, vmin=-1, cmap=\"RdBu_r\")"
   ]
  },
  {
   "cell_type": "code",
   "execution_count": null,
   "metadata": {
    "_uuid": "7888f75218624a63eed71ee2bd19c29c1f34d2b5",
    "slideshow": {
     "slide_type": "subslide"
    }
   },
   "outputs": [],
   "source": [
    "correlation['quality'].sort_values(ascending=False)"
   ]
  },
  {
   "cell_type": "markdown",
   "metadata": {
    "slideshow": {
     "slide_type": "notes"
    }
   },
   "source": [
    "In the above fragment of code and output, conclusion can be made that the attributes alcohol, sulphates, acid_citric, acidity_fixed have maximum corelation with 'quality' attribute.\n",
    "\n",
    "\n",
    "Hence, these four will be used furthe for pattern and corelation exploration."
   ]
  },
  {
   "cell_type": "markdown",
   "metadata": {
    "slideshow": {
     "slide_type": "notes"
    }
   },
   "source": [
    "#  Alcohol Percent vs Wine Quality"
   ]
  },
  {
   "cell_type": "code",
   "execution_count": null,
   "metadata": {
    "_uuid": "7576ccef669debfbf12ca8da08a9189704dc98f1",
    "slideshow": {
     "slide_type": "fragment"
    }
   },
   "outputs": [],
   "source": [
    "bx = seans.boxplot(x=\"quality\", y='alcohol', data = dataset)\n",
    "bx.set(xlabel='Quality Dataset', ylabel='Alcohol Percent', title='Alcohol percent in different dataset quality types')"
   ]
  },
  {
   "cell_type": "markdown",
   "metadata": {
    "slideshow": {
     "slide_type": "notes"
    }
   },
   "source": [
    "#  Sulphates vs Ratings Dataset"
   ]
  },
  {
   "cell_type": "code",
   "execution_count": null,
   "metadata": {
    "_uuid": "7bc6ef798e4fbafe196f1168527e18b12c51c967",
    "slideshow": {
     "slide_type": "fragment"
    }
   },
   "outputs": [],
   "source": [
    "bx = seans.boxplot(x=\"rating\", y='sulphates', data = dataset)\n",
    "bx.set(xlabel='Ratings Dataset', ylabel='Sulphates', title='Sulphates in different types of dataset ratings')"
   ]
  },
  {
   "cell_type": "markdown",
   "metadata": {
    "slideshow": {
     "slide_type": "notes"
    }
   },
   "source": [
    "#  Citric Acid vs Ratings Dataset"
   ]
  },
  {
   "cell_type": "code",
   "execution_count": null,
   "metadata": {
    "_uuid": "a24efe33486162ebbecfefb639b3e8d7c00d1a87",
    "slideshow": {
     "slide_type": "fragment"
    }
   },
   "outputs": [],
   "source": [
    "bx = seans.boxplot(x=\"rating\", y='acid_citric', data = dataset)\n",
    "bx.set(xlabel='dataset Ratings', ylabel='Citric Acid', title='Xitric_acid in different types of dataset ratings')"
   ]
  },
  {
   "cell_type": "markdown",
   "metadata": {
    "slideshow": {
     "slide_type": "notes"
    }
   },
   "source": [
    "#  Fixed Acidity vs Ratings Dataset"
   ]
  },
  {
   "cell_type": "code",
   "execution_count": null,
   "metadata": {
    "_uuid": "7f3b04d9323a4c845630c00c4eb323ee6aeb0329",
    "slideshow": {
     "slide_type": "fragment"
    }
   },
   "outputs": [],
   "source": [
    "bx = seans.boxplot(x=\"rating\", y='acidity_fixed', data = dataset)\n",
    "bx.set(xlabel='dataset Ratings', ylabel='Fixed Acidity', title='Fixed Acidity in different types of dataset ratings')"
   ]
  },
  {
   "cell_type": "markdown",
   "metadata": {
    "slideshow": {
     "slide_type": "notes"
    }
   },
   "source": [
    "#  pH vs Ratings Dataset"
   ]
  },
  {
   "cell_type": "code",
   "execution_count": null,
   "metadata": {
    "_uuid": "d270ce6e4c5d6d5bbcf9fdc05ca029957ced065a",
    "slideshow": {
     "slide_type": "fragment"
    }
   },
   "outputs": [],
   "source": [
    "bx = seans.boxplot(x=\"rating\", y=\"pH\", data = dataset);\n",
    "bx.set(xlabel='dataset Ratings', ylabel='pH', title='pH in different types of dataset ratings')"
   ]
  },
  {
   "cell_type": "markdown",
   "metadata": {
    "slideshow": {
     "slide_type": "notes"
    }
   },
   "source": [
    "# Linear Regression\n",
    "\n",
    "    The graphs given below show a linear regression between residual sugar and alcohol content for different \n",
    "    Quality ratings(inferior, fine, superior) of red wine.\n",
    "    \n",
    "    An observation can be made that in the superior and fine red wine types the residual sugar content remains \n",
    "    almost same irrespective of change in alcohol content value on contrast to which it can be observed that the\n",
    "    residual sugar value incerases gradually when there is an increase in the alcohol content.\n",
    "    \n",
    "    This analysis can help in production of higher percent of good quality wine with continuous monitoring and control\n",
    "    of alcohol and residual sugar content in red wine."
   ]
  },
  {
   "cell_type": "code",
   "execution_count": null,
   "metadata": {
    "_uuid": "2c6e1473a1f71224a6aac6ab5b79408b359521f0",
    "slideshow": {
     "slide_type": "fragment"
    }
   },
   "outputs": [],
   "source": [
    "seans.lmplot(x = \"alcohol\", y = \"residual_sugar\", col = \"rating\", data = dataset)"
   ]
  },
  {
   "cell_type": "code",
   "execution_count": null,
   "metadata": {
    "_uuid": "447de045b8627c9b46f9da99198fdf6bea6aae98",
    "slideshow": {
     "slide_type": "fragment"
    }
   },
   "outputs": [],
   "source": [
    "dataset['rate_code'] = (dataset['quality'] > 4).astype(npy.float32)"
   ]
  },
  {
   "cell_type": "markdown",
   "metadata": {
    "slideshow": {
     "slide_type": "notes"
    }
   },
   "source": [
    "# Classification\n",
    "    Classification using Statsmodel:\n",
    "        We will use statsmodel for this logistic regression analysis of predicting good wine quality (>4).\n",
    "        Let's create a new categorical variable/column (rate_code) with two possible values (good = 1 & bad = 0)."
   ]
  },
  {
   "cell_type": "code",
   "execution_count": null,
   "metadata": {
    "_uuid": "03b57dd1d604dba53d67f551eac4ed842e4ca207",
    "slideshow": {
     "slide_type": "subslide"
    }
   },
   "outputs": [],
   "source": [
    "y, X = dmatrices('rate_code ~ alcohol', data = dataset)\n",
    "seans.distplot(X[y[:,0] > 0, 1])\n",
    "seans.distplot(X[y[:,0] == 0, 1])"
   ]
  },
  {
   "cell_type": "code",
   "execution_count": null,
   "metadata": {
    "_uuid": "d52685ad1889ddc67025d622fafcad3f63cc8765",
    "slideshow": {
     "slide_type": "subslide"
    }
   },
   "outputs": [],
   "source": [
    "yhat = result.predict(X)\n",
    "seans.distplot(yhat[y[:,0] > 0])\n",
    "seans.distplot(yhat[y[:,0] == 0])"
   ]
  },
  {
   "cell_type": "markdown",
   "metadata": {},
   "source": [
    "The usage of this analysis will help to understand whether by modifying the variables, it is possible to increase the quality of the wine on the market. If you can control your variables, then you can predict the quality of your wine and obtain more profits.Plotting graphs of relation b/w different variables is the basic step to determine the factors that have a larger impact and to work upon those factors.As seen, the statsmodel and sklearn's Linear Regression model along with Random Forest Classifier. The Random Forest Classifier performed marginally better and we decided to stick with it if we had to make any more predictions."
   ]
  }
 ],
 "metadata": {
  "celltoolbar": "Slideshow",
  "kernelspec": {
   "display_name": "Python 3",
   "language": "python",
   "name": "python3"
  },
  "language_info": {
   "codemirror_mode": {
    "name": "ipython",
    "version": 3
   },
   "file_extension": ".py",
   "mimetype": "text/x-python",
   "name": "python",
   "nbconvert_exporter": "python",
   "pygments_lexer": "ipython3",
   "version": "3.6.5"
  }
 },
 "nbformat": 4,
 "nbformat_minor": 1
}
